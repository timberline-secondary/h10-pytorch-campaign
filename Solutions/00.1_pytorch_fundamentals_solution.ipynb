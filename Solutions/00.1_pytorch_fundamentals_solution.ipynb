{
 "cells": [
  {
   "cell_type": "markdown",
   "metadata": {
    "id": "AzDBM_v4iMe7"
   },
   "source": [
    "# 00. PyTorch Fundamentals Exercises\n",
    "\n",
    "### 1. Documentation reading \n",
    "\n",
    "A big part of deep learning (and learning to code in general) is getting familiar with the documentation of a certain framework you're using. We'll be using the PyTorch documentation a lot throughout the rest of this course. So I'd recommend spending 10-minutes reading the following (it's okay if you don't get some things for now, the focus is not yet full understanding, it's awareness):\n",
    "  * The documentation on [`torch.Tensor`](https://pytorch.org/docs/stable/tensors.html#torch-tensor).\n",
    "  * The documentation on [`torch.cuda`](https://pytorch.org/docs/master/notes/cuda.html#cuda-semantics).\n",
    "\n"
   ]
  },
  {
   "cell_type": "code",
   "execution_count": 1,
   "metadata": {
    "id": "bGD0oD8Kizak"
   },
   "outputs": [],
   "source": [
    "# No code solution (reading)"
   ]
  },
  {
   "cell_type": "markdown",
   "metadata": {
    "id": "__iXqqz-ioUJ"
   },
   "source": [
    "### 2. Create a random tensor called X with a shape  of `(4, 2)`. Print X and it's shape.\n"
   ]
  },
  {
   "cell_type": "code",
   "execution_count": 1,
   "metadata": {
    "id": "6pUq9Dc8i2L7"
   },
   "outputs": [
    {
     "data": {
      "text/plain": [
       "(tensor([[0.8337, 0.3438],\n",
       "         [0.4239, 0.8878],\n",
       "         [0.2411, 0.4559],\n",
       "         [0.3605, 0.5034]]),\n",
       " torch.Size([4, 2]))"
      ]
     },
     "execution_count": 1,
     "metadata": {},
     "output_type": "execute_result"
    }
   ],
   "source": [
    "# Import torch\n",
    "import torch\n",
    "# Create random tensor\n",
    "X = torch.rand(size=(4, 2))\n",
    "X, X.shape"
   ]
  },
  {
   "cell_type": "markdown",
   "metadata": {
    "id": "9-XxvRLfiqkR"
   },
   "source": [
    "### 3. Set Z equal to a matrix multiplication between tensor X and another random tensor called Y with a shape of  `(3, 2)` (hint: you may have to transpose Y).  Print Z and it's shape."
   ]
  },
  {
   "cell_type": "code",
   "execution_count": 5,
   "metadata": {
    "id": "NcLqR0Sbi_vT"
   },
   "outputs": [
    {
     "data": {
      "text/plain": [
       "(tensor([[0.4245, 0.3069, 0.1423],\n",
       "         [0.5309, 0.6293, 0.3445],\n",
       "         [0.2803, 0.3254, 0.1772],\n",
       "         [0.3403, 0.3682, 0.1969]]),\n",
       " torch.Size([4, 3]))"
      ]
     },
     "execution_count": 5,
     "metadata": {},
     "output_type": "execute_result"
    }
   ],
   "source": [
    "# Create another random tensor\n",
    "Y = torch.rand(size=(3, 2))\n",
    "# Perform matrix multiplication \n",
    "Z = torch.matmul(X, Y.T)\n",
    "Z, Z.shape"
   ]
  },
  {
   "cell_type": "markdown",
   "metadata": {
    "id": "eiutdKUFiryU"
   },
   "source": [
    "### 4. Set the RANDOM_SEED variable to `0`, then set the seed to RANDOM_SEED and do 2 & 3 over again. (make new variables)\n",
    "\n",
    "The output should be:\n",
    "```\n",
    "tensor([[0.7119, 0.4817, 0.1408],\n",
    "        [0.1238, 0.0839, 0.0243],\n",
    "        [0.5410, 0.3620, 0.1139],\n",
    "        [0.7901, 0.5311, 0.1623]])\n",
    "```"
   ]
  },
  {
   "cell_type": "code",
   "execution_count": 13,
   "metadata": {
    "id": "D-lOWI_1jRMm"
   },
   "outputs": [
    {
     "data": {
      "text/plain": [
       "tensor([[0.7119, 0.4817, 0.1408],\n",
       "        [0.1238, 0.0839, 0.0243],\n",
       "        [0.5410, 0.3620, 0.1139],\n",
       "        [0.7901, 0.5311, 0.1623]])"
      ]
     },
     "execution_count": 13,
     "metadata": {},
     "output_type": "execute_result"
    }
   ],
   "source": [
    "# Set manual seed\n",
    "RANDOM_SEED=0\n",
    "torch.manual_seed(seed=RANDOM_SEED) \n",
    "# Create two random tensors\n",
    "X2 = torch.rand(size=(4, 2))\n",
    "Y2 = torch.rand(size=(3, 2))\n",
    "# Matrix multiply tensors\n",
    "Z2 = torch.matmul(X2, Y2.T)\n",
    "Z2"
   ]
  },
  {
   "cell_type": "markdown",
   "metadata": {
    "id": "ezY6ks9Cis37"
   },
   "source": [
    "### 5. Speaking of random seeds, we saw how to set it with `torch.manual_seed()` but is there a GPU equivalent? (hint: you'll need to look into the documentation for `torch.cuda` for this one)\n",
    "  * If there is, set the GPU random seed to `22078`."
   ]
  },
  {
   "cell_type": "code",
   "execution_count": 11,
   "metadata": {
    "id": "_LKWcfSTjp00"
   },
   "outputs": [],
   "source": [
    "# Set random seed\n",
    "torch.cuda.manual_seed(22078)"
   ]
  }
 ],
 "metadata": {
  "accelerator": "GPU",
  "colab": {
   "collapsed_sections": [],
   "name": "00_pytorch_fundamentals_exercises.ipynb",
   "provenance": []
  },
  "kernelspec": {
   "display_name": "Python 3 (ipykernel)",
   "language": "python",
   "name": "python3"
  },
  "language_info": {
   "codemirror_mode": {
    "name": "ipython",
    "version": 3
   },
   "file_extension": ".py",
   "mimetype": "text/x-python",
   "name": "python",
   "nbconvert_exporter": "python",
   "pygments_lexer": "ipython3",
   "version": "3.10.6"
  }
 },
 "nbformat": 4,
 "nbformat_minor": 1
}
